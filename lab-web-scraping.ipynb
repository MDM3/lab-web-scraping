{
 "cells": [
  {
   "cell_type": "markdown",
   "id": "7e7a1ab8-2599-417d-9a65-25ef07f3a786",
   "metadata": {
    "id": "7e7a1ab8-2599-417d-9a65-25ef07f3a786"
   },
   "source": [
    "# Lab | Web Scraping"
   ]
  },
  {
   "cell_type": "markdown",
   "id": "ce8882fc-4815-4567-92fa-b4816358ba7d",
   "metadata": {
    "id": "ce8882fc-4815-4567-92fa-b4816358ba7d"
   },
   "source": [
    "Welcome to the \"Books to Scrape\" Web Scraping Adventure Lab!\n",
    "\n",
    "**Objective**\n",
    "\n",
    "In this lab, we will embark on a mission to unearth valuable insights from the data available on Books to Scrape, an online platform showcasing a wide variety of books. As data analyst, you have been tasked with scraping a specific subset of book data from Books to Scrape to assist publishing companies in understanding the landscape of highly-rated books across different genres. Your insights will help shape future book marketing strategies and publishing decisions.\n",
    "\n",
    "**Background**\n",
    "\n",
    "In a world where data has become the new currency, businesses are leveraging big data to make informed decisions that drive success and profitability. The publishing industry, much like others, utilizes data analytics to understand market trends, reader preferences, and the performance of books based on factors such as genre, author, and ratings. Books to Scrape serves as a rich source of such data, offering detailed information about a diverse range of books, making it an ideal platform for extracting insights to aid in informed decision-making within the literary world.\n",
    "\n",
    "**Task**\n",
    "\n",
    "Your task is to create a Python script using BeautifulSoup and pandas to scrape Books to Scrape book data, focusing on book ratings and genres. The script should be able to filter books with ratings above a certain threshold and in specific genres. Additionally, the script should structure the scraped data in a tabular format using pandas for further analysis.\n",
    "\n",
    "**Expected Outcome**\n",
    "\n",
    "A function named `scrape_books` that takes two parameters: `min_rating` and `max_price`. The function should scrape book data from the \"Books to Scrape\" website and return a `pandas` DataFrame with the following columns:\n",
    "\n",
    "**Expected Outcome**\n",
    "\n",
    "- A function named `scrape_books` that takes two parameters: `min_rating` and `max_price`.\n",
    "- The function should return a DataFrame with the following columns:\n",
    "  - **UPC**: The Universal Product Code (UPC) of the book.\n",
    "  - **Title**: The title of the book.\n",
    "  - **Price (£)**: The price of the book in pounds.\n",
    "  - **Rating**: The rating of the book (1-5 stars).\n",
    "  - **Genre**: The genre of the book.\n",
    "  - **Availability**: Whether the book is in stock or not.\n",
    "  - **Description**: A brief description or product description of the book (if available).\n",
    "  \n",
    "You will execute this script to scrape data for books with a minimum rating of `4.0 and above` and a maximum price of `£20`. \n",
    "\n",
    "Remember to experiment with different ratings and prices to ensure your code is versatile and can handle various searches effectively!\n",
    "\n",
    "**Resources**\n",
    "\n",
    "- [Beautiful Soup Documentation](https://www.crummy.com/software/BeautifulSoup/bs4/doc/)\n",
    "- [Pandas Documentation](https://pandas.pydata.org/pandas-docs/stable/index.html)\n",
    "- [Books to Scrape](https://books.toscrape.com/)\n"
   ]
  },
  {
   "cell_type": "markdown",
   "id": "3519921d-5890-445b-9a33-934ed8ee378c",
   "metadata": {
    "id": "3519921d-5890-445b-9a33-934ed8ee378c"
   },
   "source": [
    "**Hint**\n",
    "\n",
    "Your first mission is to familiarize yourself with the **Books to Scrape** website. Navigate to [Books to Scrape](http://books.toscrape.com/) and explore the available books to understand their layout and structure. \n",
    "\n",
    "Next, think about how you can set parameters for your data extraction:\n",
    "\n",
    "- **Minimum Rating**: Focus on books with a rating of 4.0 and above.\n",
    "- **Maximum Price**: Filter for books priced up to £20.\n",
    "\n",
    "After reviewing the site, you can construct a plan for scraping relevant data. Pay attention to the details displayed for each book, including the title, price, rating, and availability. This will help you identify the correct HTML elements to target with your scraping script.\n",
    "\n",
    "Make sure to build your scraping URL and logic based on the patterns you observe in the HTML structure of the book listings!"
   ]
  },
  {
   "cell_type": "markdown",
   "id": "25a83a0d-a742-49f6-985e-e27887cbf922",
   "metadata": {
    "id": "25a83a0d-a742-49f6-985e-e27887cbf922"
   },
   "source": [
    "\n",
    "---\n",
    "\n",
    "**Best of luck! Immerse yourself in the world of books, and may the data be with you!**"
   ]
  },
  {
   "cell_type": "markdown",
   "id": "7b75cf0d-9afa-4eec-a9e2-befeac68b2a0",
   "metadata": {
    "id": "7b75cf0d-9afa-4eec-a9e2-befeac68b2a0"
   },
   "source": [
    "**Important Note**:\n",
    "\n",
    "In the fast-changing online world, websites often update and change their structures. When you try this lab, the **Books to Scrape** website might differ from what you expect.\n",
    "\n",
    "If you encounter issues due to these changes, like new rules or obstacles preventing data extraction, don’t worry! Get creative.\n",
    "\n",
    "You can choose another website that interests you and is suitable for scraping data. Options like Wikipedia, The New York Times, or even library databases are great alternatives. The main goal remains the same: extract useful data and enhance your web scraping skills while exploring a source of information you enjoy. This is your opportunity to practice and adapt to different web environments!"
   ]
  },
  {
   "cell_type": "markdown",
   "id": "8d3d2554-e95f-45e2-86ee-5783b43f0717",
   "metadata": {},
   "source": [
    "#### A function named scrape_books that takes two parameters: min_rating and max_price.\n",
    "- A function named `scrape_books` that takes two parameters: `min_rating` and `max_price`.\n",
    "- The function should return a DataFrame with the following columns:\n",
    "  - **UPC**: The Universal Product Code (UPC) of the book.\n",
    "  - **Title**: The title of the book.\n",
    "  - **Price (£)**: The price of the book in pounds.\n",
    "  - **Rating**: The rating of the book (1-5 stars).\n",
    "  - **Genre**: The genre of the book.\n",
    "  - **Availability**: Whether the book is in stock or not.\n",
    "  - **Description**: A brief description or product description of the book (if available).\n",
    "  \n",
    "You will execute this script to scrape data for books with a minimum rating of `4.0 and above` and a maximum price of `£20`. e of £20."
   ]
  },
  {
   "cell_type": "code",
   "execution_count": 7,
   "id": "40359eee-9cd7-4884-bfa4-83344c222305",
   "metadata": {
    "id": "40359eee-9cd7-4884-bfa4-83344c222305"
   },
   "outputs": [],
   "source": [
    "import pandas as pd\n",
    "from bs4 import BeautifulSoup\n",
    "import requests\n",
    "\n",
    "pd.set_option('display.max_columns', None) # display all columns\n",
    "import warnings\n",
    "warnings.filterwarnings('ignore') # ignore warningson goes here"
   ]
  },
  {
   "cell_type": "code",
   "execution_count": 8,
   "id": "6a00238e-d2f0-4558-b178-158d951e44e4",
   "metadata": {
    "scrolled": true
   },
   "outputs": [],
   "source": [
    "url = 'https://books.toscrape.com/'\n",
    "response = requests.get(url)\n",
    "response.status_code\n",
    "html = response.text\n",
    "soup = BeautifulSoup(html, 'html.parser')\n"
   ]
  },
  {
   "cell_type": "code",
   "execution_count": 66,
   "id": "252f7140-f24d-4c81-9bb9-5c8330d5e6b3",
   "metadata": {},
   "outputs": [],
   "source": [
    "def scrape_books(min_rating, max_price):\n",
    "\n",
    "'''This function allows to do web scrapping on the web 'https://books.toscrape.com/', passing the parameters set. \n",
    "The output is a dataframe with columns:' UPC', 'Title', 'Prices', 'Rating Values', 'Genre', 'Availability' and 'Description' '''\n",
    "\n",
    "pages = []\n",
    "link_book = []\n",
    "utcs = []\n",
    "titles = []\n",
    "prices = []\n",
    "rating_values= []\n",
    "genres = []\n",
    "availability = []\n",
    "description = []\n",
    "\n",
    "for page in range(1,51):\n",
    "    base = url+'/catalogue/page-'+str(page)+'.html'\n",
    "    pages.append(base)\n",
    "\n",
    "    book_headers = soup.find_all('h3')\n",
    "    \n",
    "    for book in book_headers:\n",
    "        href = book.find('a').get('href')\n",
    "        link_book.append('https://books.toscrape.com/'+href)\n",
    "\n",
    "for book_link in link_book:\n",
    "    response1 = requests.get(book_link)\n",
    "    soup1 = BeautifulSoup(response1.text, 'html.parser')\n",
    "\n",
    "    #UTC\n",
    "    utc = soup1.find('td').get_text()\n",
    "    utcs.append(utc)\n",
    "    \n",
    "    #Title\n",
    "    title = soup1.find('h1').get_text()\n",
    "    titles.append(title)\n",
    "    \n",
    "    # Prices\n",
    "    price_color = soup1.find(class_=\"price_color\")\n",
    "    price = float(price_color.get_text()[2:])\n",
    "    prices.append(price)\n",
    "\n",
    "    #Rating\n",
    "    rating_classes = {\"One\": 1, \"Two\": 2, \"Three\": 3, \"Four\": 4, \"Five\": 5}\n",
    "    \n",
    "    rating = soup1.find(class_=\"star-rating\")\n",
    "    rating_text = rating[\"class\"][1] if rating else None\n",
    "    rating_values.append(rating_classes.get(rating_text, None))\n",
    "    \n",
    "    # ratings = soup1.find_all(class_=[\"star-rating One\", \"star-rating Two\", \"star-rating Three\",\"star-rating Four\", \"star-rating Five\"])\n",
    "    # for rating in ratings:\n",
    "    #     rating_text = rating[\"class\"][1]\n",
    "    #     if rating_text == 'One':\n",
    "    #         rating_values.append(1)\n",
    "    #     elif rating_text == 'Two':\n",
    "    #         rating_values.append(2)\n",
    "    #     elif rating_text == 'Three':\n",
    "    #         rating_values.append(3)\n",
    "    #     elif rating_text == 'Four':\n",
    "    #         rating_values.append(4)\n",
    "    #     else:\n",
    "    #         rating_values.append(5)\n",
    "\n",
    "    #Genres\n",
    "    genres.append(soup1.find_all('li')[2].get_text(strip=True))\n",
    "\n",
    "    #Availability\n",
    "    #availability = soup1.find(class_=\"instock availability\").get_text(strip=True)[10:12]\n",
    "    availability.append(soup1.find(class_=\"instock availability\").get_text(strip=True))\n",
    "    \n",
    "    #Description\n",
    "    description.append(soup1.find_all(\"p\")[3].get_text(strip = True))\n",
    "\n",
    "columns = {\n",
    "    'UPC': utcs,\n",
    "    'Title': titles,\n",
    "    'Prices': prices,\n",
    "    'Rating Values': rating_values,\n",
    "    'Genre': genres,\n",
    "    'Availability': availability,\n",
    "    'Description': description   \n",
    "}\n",
    "\n",
    "df = pd.DataFrame(data=columns)\n",
    "\n",
    "# minimum rating of 4.0 and above and a maximum price of £20. e of £20.\n",
    "df_filtered = df.loc[(df['Prices'] <= max_price) & (df['Rating Values'] >= min_rating)].reset_index(drop=True)\n",
    "\n",
    "return df_filtered"
   ]
  }
 ],
 "metadata": {
  "colab": {
   "provenance": []
  },
  "kernelspec": {
   "display_name": "Python 3 (ipykernel)",
   "language": "python",
   "name": "python3"
  },
  "language_info": {
   "codemirror_mode": {
    "name": "ipython",
    "version": 3
   },
   "file_extension": ".py",
   "mimetype": "text/x-python",
   "name": "python",
   "nbconvert_exporter": "python",
   "pygments_lexer": "ipython3",
   "version": "3.12.4"
  }
 },
 "nbformat": 4,
 "nbformat_minor": 5
}
